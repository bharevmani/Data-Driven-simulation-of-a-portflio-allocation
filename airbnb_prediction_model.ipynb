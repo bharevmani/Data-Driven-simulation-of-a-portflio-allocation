{
  "nbformat": 4,
  "nbformat_minor": 0,
  "metadata": {
    "accelerator": "GPU",
    "colab": {
      "name": "airbnb prediction model.ipynb",
      "provenance": [],
      "include_colab_link": true
    },
    "kernelspec": {
      "display_name": "Python 3",
      "name": "python3"
    }
  },
  "cells": [
    {
      "cell_type": "markdown",
      "metadata": {
        "id": "view-in-github",
        "colab_type": "text"
      },
      "source": [
        "<a href=\"https://colab.research.google.com/github/bharevmani/Data-Driven-simulation-of-a-portflio-allocation/blob/master/airbnb_prediction_model.ipynb\" target=\"_parent\"><img src=\"https://colab.research.google.com/assets/colab-badge.svg\" alt=\"Open In Colab\"/></a>"
      ]
    },
    {
      "cell_type": "code",
      "metadata": {
        "id": "Xkd_rog6YrTG"
      },
      "source": [
        "import pandas as pd\n",
        "import numpy as np\n",
        "from sklearn.preprocessing import OneHotEncoder\n",
        "from sklearn.preprocessing import OrdinalEncoder\n",
        "from sklearn.preprocessing import MinMaxScaler\n",
        "from sklearn.preprocessing import StandardScaler\n",
        "from sklearn.compose import ColumnTransformer\n",
        "from sklearn.pipeline import Pipeline\n",
        "from sklearn.experimental import enable_iterative_imputer\n",
        "from sklearn.impute import IterativeImputer\n",
        "from sklearn.ensemble import RandomForestRegressor\n",
        "from sklearn.preprocessing import LabelEncoder\n",
        "import matplotlib.pyplot as plt\n",
        "import seaborn as sns"
      ],
      "execution_count": null,
      "outputs": []
    },
    {
      "cell_type": "code",
      "metadata": {
        "colab": {
          "base_uri": "https://localhost:8080/"
        },
        "id": "jGqQFxctZyhd",
        "outputId": "03b0152e-bd40-425b-fcda-80599b9f5601"
      },
      "source": [
        "from google.colab import drive\n",
        "drive.mount('/content/drive')"
      ],
      "execution_count": null,
      "outputs": [
        {
          "output_type": "stream",
          "text": [
            "Mounted at /content/drive\n"
          ],
          "name": "stdout"
        }
      ]
    },
    {
      "cell_type": "code",
      "metadata": {
        "id": "spkZ4wCaaCZu"
      },
      "source": [
        "df = pd.read_csv('/content/drive/MyDrive/AB_NYC_2019.csv')"
      ],
      "execution_count": null,
      "outputs": []
    },
    {
      "cell_type": "code",
      "metadata": {
        "colab": {
          "base_uri": "https://localhost:8080/"
        },
        "id": "gOBg2dE_aRKz",
        "outputId": "042396d7-31e3-4c94-d407-3c7de40604e4"
      },
      "source": [
        "#condensing dataset to the 5 features used in model\n",
        "df_5 = df[['neighbourhood_group','room_type','number_of_reviews','reviews_per_month','availability_365']]\n",
        "print(df_5.head())\n",
        "print(df_5.shape)"
      ],
      "execution_count": null,
      "outputs": [
        {
          "output_type": "stream",
          "text": [
            "  neighbourhood_group        room_type  ...  reviews_per_month  availability_365\n",
            "0            Brooklyn     Private room  ...               0.21               365\n",
            "1           Manhattan  Entire home/apt  ...               0.38               355\n",
            "2           Manhattan     Private room  ...                NaN               365\n",
            "3            Brooklyn  Entire home/apt  ...               4.64               194\n",
            "4           Manhattan  Entire home/apt  ...               0.10                 0\n",
            "\n",
            "[5 rows x 5 columns]\n",
            "(48895, 5)\n"
          ],
          "name": "stdout"
        }
      ]
    },
    {
      "cell_type": "code",
      "metadata": {
        "colab": {
          "base_uri": "https://localhost:8080/"
        },
        "id": "8dvOKKEMaiw3",
        "outputId": "e29474a5-4a69-4274-8b26-4b8322ed17ce"
      },
      "source": [
        "#checking frequency of\n",
        "# 1. Neighbourhood groups\n",
        "# 2. Room types\n",
        "top_neighbourhood_groups = df['neighbourhood_group'].value_counts()\n",
        "print(top_neighbourhood_groups)\n",
        "print()\n",
        "print(df['room_type'].value_counts())\n",
        "print(\"free Airbnb \", sum(df['price'] == 0))"
      ],
      "execution_count": null,
      "outputs": [
        {
          "output_type": "stream",
          "text": [
            "Manhattan        21661\n",
            "Brooklyn         20104\n",
            "Queens            5666\n",
            "Bronx             1091\n",
            "Staten Island      373\n",
            "Name: neighbourhood_group, dtype: int64\n",
            "\n",
            "Entire home/apt    25409\n",
            "Private room       22326\n",
            "Shared room         1160\n",
            "Name: room_type, dtype: int64\n",
            "free Airbnb  11\n"
          ],
          "name": "stdout"
        }
      ]
    },
    {
      "cell_type": "code",
      "metadata": {
        "colab": {
          "base_uri": "https://localhost:8080/",
          "height": 598
        },
        "id": "QA1CGW5xanaL",
        "outputId": "1b8297c1-8a18-4cdd-c097-bdda0924b8f9"
      },
      "source": [
        "#visualising frequency of rooms in each neighbourhood group\n",
        "sns.set(rc={'figure.figsize':(10,8)})\n",
        "vis_1 = top_neighbourhood_groups.plot(kind = 'bar')\n",
        "vis_1.set_title(\"Neighbourhood Groups with the most listings in NYC\")\n",
        "vis_1.set_ylabel(\"Count of listings\")\n",
        "vis_1.set_xlabel(\"Neighbourhood names\")"
      ],
      "execution_count": null,
      "outputs": [
        {
          "output_type": "execute_result",
          "data": {
            "text/plain": [
              "Text(0.5, 0, 'Neighbourhood names')"
            ]
          },
          "metadata": {
            "tags": []
          },
          "execution_count": 6
        },
        {
          "output_type": "display_data",
          "data": {
            "image/png": "[encoded data removed]",
            "text/plain": [
              "<Figure size 720x576 with 1 Axes>"
            ]
          },
          "metadata": {
            "tags": []
          }
        }
      ]
    },
    {
      "cell_type": "code",
      "metadata": {
        "colab": {
          "base_uri": "https://localhost:8080/"
        },
        "id": "yjjQrDwWaqNB",
        "outputId": "47ae9f08-e58d-4a47-a408-791fab15be33"
      },
      "source": [
        "#converting price to log price \n",
        "label = df['price'].copy()\n",
        "eda_df = df.copy()\n",
        "eda_label = pd.DataFrame(np.log(label.values), columns=['log price'])\n",
        "eda_df.drop(columns=['price'],inplace=True)\n",
        "eda_df = pd.concat([eda_df, eda_label], axis=1)\n",
        "print(eda_df.head())"
      ],
      "execution_count": null,
      "outputs": [
        {
          "output_type": "stream",
          "text": [
            "     id  ... log price\n",
            "0  2539  ...  5.003946\n",
            "1  2595  ...  5.416100\n",
            "2  3647  ...  5.010635\n",
            "3  3831  ...  4.488636\n",
            "4  5022  ...  4.382027\n",
            "\n",
            "[5 rows x 16 columns]\n"
          ],
          "name": "stdout"
        },
        {
          "output_type": "stream",
          "text": [
            "/usr/local/lib/python3.6/dist-packages/ipykernel_launcher.py:4: RuntimeWarning: divide by zero encountered in log\n",
            "  after removing the cwd from sys.path.\n"
          ],
          "name": "stderr"
        }
      ]
    },
    {
      "cell_type": "code",
      "metadata": {
        "colab": {
          "base_uri": "https://localhost:8080/",
          "height": 599
        },
        "id": "bCWEIjPzatxH",
        "outputId": "6abd6609-bd8b-4c1b-8f43-08b187c0faa0"
      },
      "source": [
        "#log price vs room type\n",
        "eda_df[['log price','room_type']].boxplot(by='room_type')\n",
        "plt.title('Price distribution with room types')\n",
        "plt.ylabel('log price')\n",
        "plt.xlabel(\"room type\")\n",
        "plt.show()"
      ],
      "execution_count": null,
      "outputs": [
        {
          "output_type": "stream",
          "text": [
            "/usr/local/lib/python3.6/dist-packages/numpy/core/_asarray.py:83: VisibleDeprecationWarning: Creating an ndarray from ragged nested sequences (which is a list-or-tuple of lists-or-tuples-or ndarrays with different lengths or shapes) is deprecated. If you meant to do this, you must specify 'dtype=object' when creating the ndarray\n",
            "  return array(a, dtype, copy=False, order=order)\n"
          ],
          "name": "stderr"
        },
        {
          "output_type": "display_data",
          "data": {
            "image/png": "[encoded data removed]",
            "text/plain": [
              "<Figure size 720x576 with 1 Axes>"
            ]
          },
          "metadata": {
            "tags": []
          }
        }
      ]
    },
    {
      "cell_type": "code",
      "metadata": {
        "colab": {
          "base_uri": "https://localhost:8080/",
          "height": 518
        },
        "id": "Y-FOLwS-a1HP",
        "outputId": "3597b3b9-a882-486d-d7bc-6a3c78cd3118"
      },
      "source": [
        "#log price vs number of reviews\n",
        "plt.scatter(eda_df['log price'],eda_df['number_of_reviews'])\n",
        "plt.title(\"number of reviews for different prices\")\n",
        "plt.xlabel(\"log price\")\n",
        "plt.ylabel(\"number of reviews\")\n",
        "plt.show()"
      ],
      "execution_count": null,
      "outputs": [
        {
          "output_type": "display_data",
          "data": {
            "image/png": "[encoded data removed]",
            "text/plain": [
              "<Figure size 720x576 with 1 Axes>"
            ]
          },
          "metadata": {
            "tags": []
          }
        }
      ]
    },
    {
      "cell_type": "code",
      "metadata": {
        "colab": {
          "base_uri": "https://localhost:8080/",
          "height": 599
        },
        "id": "ZEmpzklVa3qa",
        "outputId": "4684ee57-5824-496f-861f-443fc6c8ef61"
      },
      "source": [
        "#log price vs neighbourhood group\n",
        "eda_df[['log price','neighbourhood_group']].boxplot(by='neighbourhood_group')\n",
        "plt.xlabel(\"neighbourhood group\")\n",
        "plt.ylabel('log price')\n",
        "plt.title(\"prices distribution of different groups\")\n",
        "plt.show()"
      ],
      "execution_count": null,
      "outputs": [
        {
          "output_type": "stream",
          "text": [
            "/usr/local/lib/python3.6/dist-packages/numpy/core/_asarray.py:83: VisibleDeprecationWarning: Creating an ndarray from ragged nested sequences (which is a list-or-tuple of lists-or-tuples-or ndarrays with different lengths or shapes) is deprecated. If you meant to do this, you must specify 'dtype=object' when creating the ndarray\n",
            "  return array(a, dtype, copy=False, order=order)\n"
          ],
          "name": "stderr"
        },
        {
          "output_type": "display_data",
          "data": {
            "image/png": "[encoded data removed]",
            "text/plain": [
              "<Figure size 720x576 with 1 Axes>"
            ]
          },
          "metadata": {
            "tags": []
          }
        }
      ]
    },
    {
      "cell_type": "markdown",
      "metadata": {
        "id": "ZHeHFkCldBpG"
      },
      "source": [
        "Pre Processing"
      ]
    },
    {
      "cell_type": "code",
      "metadata": {
        "id": "rIkRo0HPa7-G"
      },
      "source": [
        "cat_ftrs = ['neighbourhood_group']\n",
        "ordinal_ftrs = ['room_type']\n",
        "ordinal_cats = [['Entire home/apt','Private room','Shared room']]\n",
        "num_ftrs = ['number_of_reviews', 'reviews_per_month']\n",
        "\n",
        "categorical_transformer = Pipeline(steps=[\n",
        "    ('onehot', OneHotEncoder(sparse=False))])\n",
        "\n",
        "ordinal_transformer = Pipeline(steps=[\n",
        "    ('ordinal', OrdinalEncoder(categories = ordinal_cats))])\n",
        "\n",
        "numeric_transformer = Pipeline(steps=[\n",
        "    ('imputer', IterativeImputer(estimator=RandomForestRegressor(),random_state=3)),\n",
        "    ('scaler', StandardScaler())])\n",
        "\n",
        "preprocessor = ColumnTransformer(\n",
        "    transformers=[\n",
        "        ('cat', categorical_transformer, cat_ftrs),\n",
        "        ('ord', ordinal_transformer, ordinal_ftrs),\n",
        "        ('num', numeric_transformer, num_ftrs)])"
      ],
      "execution_count": null,
      "outputs": []
    },
    {
      "cell_type": "code",
      "metadata": {
        "colab": {
          "base_uri": "https://localhost:8080/"
        },
        "id": "xdYCbyuQa_Si",
        "outputId": "c0354f19-7177-4c50-b4c4-d3c205051622"
      },
      "source": [
        "X_prep = preprocessor.fit_transform(df_5)\n",
        "feature_names = list(preprocessor.named_transformers_['cat'][0].get_feature_names()) +\\\n",
        "                preprocessor.transformers_[1][-1] +\\\n",
        "                preprocessor.transformers_[2][-1]\n",
        "print(feature_names)"
      ],
      "execution_count": null,
      "outputs": [
        {
          "output_type": "stream",
          "text": [
            "['x0_Bronx', 'x0_Brooklyn', 'x0_Manhattan', 'x0_Queens', 'x0_Staten Island', 'room_type', 'number_of_reviews', 'reviews_per_month']\n"
          ],
          "name": "stdout"
        }
      ]
    },
    {
      "cell_type": "code",
      "metadata": {
        "colab": {
          "base_uri": "https://localhost:8080/"
        },
        "id": "7aFQGAbHbB36",
        "outputId": "57a96191-1cfc-469c-cd68-54e7fef0e1e4"
      },
      "source": [
        "df_preprocessed = pd.DataFrame(data=X_prep,columns=feature_names)\n",
        "label = df['price'].copy()\n",
        "label[label <= 100] = 0\n",
        "label[label > 100] = 1\n",
        "price = pd.DataFrame(label, columns=['price'])\n",
        "df1_preprocessed = pd.concat([df_preprocessed, price], axis=1) #pre processed dataset\n",
        "print(df1_preprocessed.head())\n",
        "print(len(df1_preprocessed)) "
      ],
      "execution_count": null,
      "outputs": [
        {
          "output_type": "stream",
          "text": [
            "   x0_Bronx  x0_Brooklyn  ...  reviews_per_month  price\n",
            "0       0.0          1.0  ...          -0.600329      1\n",
            "1       0.0          0.0  ...          -0.491493      1\n",
            "2       0.0          0.0  ...          -0.557902      1\n",
            "3       0.0          1.0  ...           2.235801      0\n",
            "4       0.0          0.0  ...          -0.670752      0\n",
            "\n",
            "[5 rows x 9 columns]\n",
            "48895\n"
          ],
          "name": "stdout"
        }
      ]
    },
    {
      "cell_type": "code",
      "metadata": {
        "colab": {
          "base_uri": "https://localhost:8080/",
          "height": 399
        },
        "id": "ESSjeYv8bFAH",
        "outputId": "09ca722c-a841-44df-8731-9160c47b7319"
      },
      "source": [
        "plt.figure(figsize=(15,15))\n",
        "eda_feature_names = ['room_type']\n",
        "\n",
        "plot_number = 1\n",
        "for col in eda_feature_names:\n",
        "    count_matrix=df1_preprocessed.groupby([col,'price']).size().unstack()\n",
        "    count_matrix_norm=count_matrix.div(count_matrix.sum(axis=1),axis=0)\n",
        "    \n",
        "    ax = plt.subplot(3, 3, plot_number)\n",
        "    count_matrix_norm.plot(kind='bar', stacked=True, ax=ax)\n",
        "    ax.grid(linewidth=0.25)\n",
        "    ax.set_title(col + \" vs proportion of price > 100 or <= 100\")\n",
        "    ax.set_ylabel(\"price > 100 or <= 100 proportion\")\n",
        "    plot_number = plot_number + 1\n",
        "plt.tight_layout()"
      ],
      "execution_count": null,
      "outputs": [
        {
          "output_type": "display_data",
          "data": {
            "image/png": "[encoded data removed]",
            "text/plain": [
              "<Figure size 1080x1080 with 1 Axes>"
            ]
          },
          "metadata": {
            "tags": []
          }
        }
      ]
    },
    {
      "cell_type": "code",
      "metadata": {
        "colab": {
          "base_uri": "https://localhost:8080/"
        },
        "id": "rOMSwKbgbIGy",
        "outputId": "2df9c65b-d9cd-460b-d97b-d948e9ef8c9d"
      },
      "source": [
        "y = df1_preprocessed['price']\n",
        "print(y.value_counts()/y.shape)"
      ],
      "execution_count": null,
      "outputs": [
        {
          "output_type": "stream",
          "text": [
            "1    0.510625\n",
            "0    0.489375\n",
            "Name: price, dtype: float64\n"
          ],
          "name": "stdout"
        }
      ]
    },
    {
      "cell_type": "code",
      "metadata": {
        "colab": {
          "base_uri": "https://localhost:8080/"
        },
        "id": "Da2wZHdPbPiM",
        "outputId": "0460bc14-0d07-4da4-d978-9e101fd37c79"
      },
      "source": [
        "y = df1_preprocessed['price'].values\n",
        "df1_preprocessed.drop(columns=['price'],inplace=True)\n",
        "X = df1_preprocessed\n",
        "print(X.head())"
      ],
      "execution_count": null,
      "outputs": [
        {
          "output_type": "stream",
          "text": [
            "   x0_Bronx  x0_Brooklyn  ...  number_of_reviews  reviews_per_month\n",
            "0       0.0          1.0  ...          -0.320414          -0.600329\n",
            "1       0.0          0.0  ...           0.487665          -0.491493\n",
            "2       0.0          0.0  ...          -0.522433          -0.557902\n",
            "3       0.0          1.0  ...           5.538156           2.235801\n",
            "4       0.0          0.0  ...          -0.320414          -0.670752\n",
            "\n",
            "[5 rows x 8 columns]\n"
          ],
          "name": "stdout"
        }
      ]
    },
    {
      "cell_type": "code",
      "metadata": {
        "colab": {
          "base_uri": "https://localhost:8080/"
        },
        "id": "3X_b-AZtbhtL",
        "outputId": "2d3713f0-f505-4600-fb61-66bd5c5c3b08"
      },
      "source": [
        "print(y)"
      ],
      "execution_count": null,
      "outputs": [
        {
          "output_type": "stream",
          "text": [
            "[1 1 1 ... 1 0 0]\n"
          ],
          "name": "stdout"
        }
      ]
    },
    {
      "cell_type": "code",
      "metadata": {
        "id": "yRzrOCfyblp9"
      },
      "source": [
        "from sklearn.model_selection import train_test_split\n",
        "from sklearn.model_selection import StratifiedKFold\n",
        "from sklearn.linear_model import LogisticRegression\n",
        "from sklearn.metrics import accuracy_score\n",
        "from sklearn.metrics import make_scorer\n",
        "from sklearn.model_selection import GridSearchCV\n",
        "from sklearn.pipeline import make_pipeline\n",
        "from sklearn.metrics import make_scorer"
      ],
      "execution_count": null,
      "outputs": []
    },
    {
      "cell_type": "code",
      "metadata": {
        "id": "OggqHIpUdhdV"
      },
      "source": [
        "from sklearn.ensemble import RandomForestClassifier\n",
        "def ML_pipeline_kfold_GridSearchCV_RF(X,y,random_state,n_folds):\n",
        "    # create a test set\n",
        "    X_other, X_test, y_other, y_test = train_test_split(X, y, test_size=0.2, random_state = random_state,stratify=y)\n",
        "    # splitter for _other\n",
        "    kf = StratifiedKFold(n_splits=n_folds,shuffle=True,random_state=random_state)\n",
        "    # create the pipeline: supervised ML method\n",
        "    pipe = make_pipeline(RandomForestClassifier(n_estimators =  100,random_state=random_state))\n",
        "    # the parameter(s) we want to tune\n",
        "    param_grid = {'randomforestclassifier__max_depth': [10,30,100,300],\n",
        "                  'randomforestclassifier__min_samples_split': [16, 32, 64, 128]}\n",
        "    # prepare gridsearch\n",
        "    grid = GridSearchCV(pipe, param_grid=param_grid, scoring = make_scorer(accuracy_score),\n",
        "                        cv=kf, return_train_score = True, iid=True, n_jobs=-1, verbose=10)\n",
        "    # do kfold CV on _other\n",
        "    grid.fit(X_other, y_other)\n",
        "    return grid, grid.score(X_test, y_test), X_test, y_test"
      ],
      "execution_count": null,
      "outputs": []
    },
    {
      "cell_type": "code",
      "metadata": {
        "colab": {
          "background_save": true,
          "base_uri": "https://localhost:8080/"
        },
        "id": "83RQnoSrdkcO",
        "outputId": "aa06af32-9233-47a1-8cfa-f357dfd93c61"
      },
      "source": [
        "grid, score, X_test, y_test = ML_pipeline_kfold_GridSearchCV_RF(X,y,42,4)"
      ],
      "execution_count": null,
      "outputs": [
        {
          "output_type": "stream",
          "text": [
            "Fitting 4 folds for each of 16 candidates, totalling 64 fits\n"
          ],
          "name": "stdout"
        },
        {
          "output_type": "stream",
          "text": [
            "[Parallel(n_jobs=-1)]: Using backend LokyBackend with 2 concurrent workers.\n",
            "[Parallel(n_jobs=-1)]: Done   1 tasks      | elapsed:    4.6s\n",
            "[Parallel(n_jobs=-1)]: Done   4 tasks      | elapsed:    7.6s\n",
            "[Parallel(n_jobs=-1)]: Done   9 tasks      | elapsed:   16.3s\n",
            "[Parallel(n_jobs=-1)]: Done  14 tasks      | elapsed:   22.1s\n",
            "[Parallel(n_jobs=-1)]: Done  21 tasks      | elapsed:   37.4s\n",
            "[Parallel(n_jobs=-1)]: Done  28 tasks      | elapsed:   49.1s\n",
            "[Parallel(n_jobs=-1)]: Done  37 tasks      | elapsed:  1.1min\n",
            "[Parallel(n_jobs=-1)]: Done  46 tasks      | elapsed:  1.4min\n",
            "[Parallel(n_jobs=-1)]: Done  57 tasks      | elapsed:  1.8min\n",
            "[Parallel(n_jobs=-1)]: Done  64 out of  64 | elapsed:  2.0min finished\n",
            "/usr/local/lib/python3.6/dist-packages/sklearn/model_selection/_search.py:823: FutureWarning: The parameter 'iid' is deprecated in 0.22 and will be removed in 0.24.\n",
            "  \"removed in 0.24.\", FutureWarning\n"
          ],
          "name": "stderr"
        }
      ]
    },
    {
      "cell_type": "code",
      "metadata": {
        "colab": {
          "background_save": true
        },
        "id": "CGtnZot6dnT3",
        "outputId": "3a78374b-de5b-402a-9e3a-cc04c6f11911"
      },
      "source": [
        "print(\"Best set of hyperparameters chosen by CV is \", grid.best_params_)\n",
        "print(\"Best average score of all sets of folds of the best set of hyperparameter is \", grid.best_score_)\n",
        "print(\"Use the best set of hyperparameter, we apply to test set, we get test score is \", score)"
      ],
      "execution_count": null,
      "outputs": [
        {
          "output_type": "stream",
          "text": [
            "Best set of hyperparameters chosen by CV is  {'randomforestclassifier__max_depth': 10, 'randomforestclassifier__min_samples_split': 32}\n",
            "Best average score of all sets of folds of the best set of hyperparameter is  0.8230136005726557\n",
            "Use the best set of hyperparameter, we apply to test set, we get test score is  0.8201247571326311\n"
          ],
          "name": "stdout"
        }
      ]
    },
    {
      "cell_type": "code",
      "metadata": {
        "colab": {
          "background_save": true
        },
        "id": "pGmnAAhjezTi"
      },
      "source": [
        "import pickle\n",
        "\n",
        "filename = 'finalized_rf.sav'\n",
        "pickle.dump(grid, open(filename, 'wb'))"
      ],
      "execution_count": null,
      "outputs": []
    },
    {
      "cell_type": "code",
      "metadata": {
        "colab": {
          "background_save": true
        },
        "id": "5pzguuCme3HU",
        "outputId": "e2036804-bd28-456e-f1ec-12e45b189b75"
      },
      "source": [
        "test_scores = []\n",
        "for i in range(10):\n",
        "    grid, test_score, X_test, y_test = ML_pipeline_kfold_GridSearchCV_RF(X,y,i*42,5)\n",
        "    print(grid.best_params_)\n",
        "    print('best CV score:',grid.best_score_)\n",
        "    print('test score:',test_score)\n",
        "    test_scores.append(test_score)\n",
        "print('test accuracy:',np.around(np.mean(test_scores),4),'+/-',np.around(np.std(test_scores),4))"
      ],
      "execution_count": null,
      "outputs": [
        {
          "output_type": "stream",
          "text": [
            "Fitting 5 folds for each of 16 candidates, totalling 80 fits\n"
          ],
          "name": "stdout"
        },
        {
          "output_type": "stream",
          "text": [
            "[Parallel(n_jobs=-1)]: Using backend LokyBackend with 2 concurrent workers.\n",
            "[Parallel(n_jobs=-1)]: Done   1 tasks      | elapsed:    3.1s\n",
            "[Parallel(n_jobs=-1)]: Done   4 tasks      | elapsed:    6.3s\n",
            "[Parallel(n_jobs=-1)]: Done   9 tasks      | elapsed:   15.5s\n",
            "[Parallel(n_jobs=-1)]: Done  14 tasks      | elapsed:   21.6s\n",
            "[Parallel(n_jobs=-1)]: Done  21 tasks      | elapsed:   35.0s\n",
            "[Parallel(n_jobs=-1)]: Done  28 tasks      | elapsed:   48.3s\n",
            "[Parallel(n_jobs=-1)]: Done  37 tasks      | elapsed:  1.1min\n",
            "[Parallel(n_jobs=-1)]: Done  46 tasks      | elapsed:  1.4min\n",
            "[Parallel(n_jobs=-1)]: Done  57 tasks      | elapsed:  1.8min\n",
            "[Parallel(n_jobs=-1)]: Done  68 tasks      | elapsed:  2.2min\n",
            "[Parallel(n_jobs=-1)]: Done  80 out of  80 | elapsed:  2.6min finished\n",
            "/usr/local/lib/python3.6/dist-packages/sklearn/model_selection/_search.py:823: FutureWarning: The parameter 'iid' is deprecated in 0.22 and will be removed in 0.24.\n",
            "  \"removed in 0.24.\", FutureWarning\n"
          ],
          "name": "stderr"
        },
        {
          "output_type": "stream",
          "text": [
            "{'randomforestclassifier__max_depth': 10, 'randomforestclassifier__min_samples_split': 128}\n",
            "best CV score: 0.8232436854484099\n",
            "test score: 0.8198179772982923\n",
            "Fitting 5 folds for each of 16 candidates, totalling 80 fits\n"
          ],
          "name": "stdout"
        },
        {
          "output_type": "stream",
          "text": [
            "[Parallel(n_jobs=-1)]: Using backend LokyBackend with 2 concurrent workers.\n",
            "[Parallel(n_jobs=-1)]: Done   1 tasks      | elapsed:    3.1s\n",
            "[Parallel(n_jobs=-1)]: Done   4 tasks      | elapsed:    6.2s\n",
            "[Parallel(n_jobs=-1)]: Done   9 tasks      | elapsed:   15.2s\n",
            "[Parallel(n_jobs=-1)]: Done  14 tasks      | elapsed:   21.2s\n",
            "[Parallel(n_jobs=-1)]: Done  21 tasks      | elapsed:   34.5s\n",
            "[Parallel(n_jobs=-1)]: Done  28 tasks      | elapsed:   47.6s\n",
            "[Parallel(n_jobs=-1)]: Done  37 tasks      | elapsed:  1.1min\n",
            "[Parallel(n_jobs=-1)]: Done  46 tasks      | elapsed:  1.4min\n",
            "[Parallel(n_jobs=-1)]: Done  57 tasks      | elapsed:  1.8min\n",
            "[Parallel(n_jobs=-1)]: Done  68 tasks      | elapsed:  2.2min\n",
            "[Parallel(n_jobs=-1)]: Done  80 out of  80 | elapsed:  2.5min finished\n",
            "/usr/local/lib/python3.6/dist-packages/sklearn/model_selection/_search.py:823: FutureWarning: The parameter 'iid' is deprecated in 0.22 and will be removed in 0.24.\n",
            "  \"removed in 0.24.\", FutureWarning\n"
          ],
          "name": "stderr"
        },
        {
          "output_type": "stream",
          "text": [
            "{'randomforestclassifier__max_depth': 100, 'randomforestclassifier__min_samples_split': 128}\n",
            "best CV score: 0.8228857756416812\n",
            "test score: 0.8207383168013089\n",
            "Fitting 5 folds for each of 16 candidates, totalling 80 fits\n"
          ],
          "name": "stdout"
        },
        {
          "output_type": "stream",
          "text": [
            "[Parallel(n_jobs=-1)]: Using backend LokyBackend with 2 concurrent workers.\n",
            "[Parallel(n_jobs=-1)]: Done   1 tasks      | elapsed:    3.0s\n",
            "[Parallel(n_jobs=-1)]: Done   4 tasks      | elapsed:    6.1s\n",
            "[Parallel(n_jobs=-1)]: Done   9 tasks      | elapsed:   15.3s\n",
            "[Parallel(n_jobs=-1)]: Done  14 tasks      | elapsed:   22.4s\n",
            "[Parallel(n_jobs=-1)]: Done  21 tasks      | elapsed:   40.4s\n",
            "[Parallel(n_jobs=-1)]: Done  28 tasks      | elapsed:   53.6s\n",
            "[Parallel(n_jobs=-1)]: Done  37 tasks      | elapsed:  1.2min\n",
            "[Parallel(n_jobs=-1)]: Done  46 tasks      | elapsed:  1.5min\n",
            "[Parallel(n_jobs=-1)]: Done  57 tasks      | elapsed:  1.9min\n",
            "[Parallel(n_jobs=-1)]: Done  68 tasks      | elapsed:  2.3min\n",
            "[Parallel(n_jobs=-1)]: Done  80 out of  80 | elapsed:  2.6min finished\n",
            "/usr/local/lib/python3.6/dist-packages/sklearn/model_selection/_search.py:823: FutureWarning: The parameter 'iid' is deprecated in 0.22 and will be removed in 0.24.\n",
            "  \"removed in 0.24.\", FutureWarning\n"
          ],
          "name": "stderr"
        },
        {
          "output_type": "stream",
          "text": [
            "{'randomforestclassifier__max_depth': 10, 'randomforestclassifier__min_samples_split': 16}\n",
            "best CV score: 0.8228090806830964\n",
            "test score: 0.8202270170774107\n",
            "Fitting 5 folds for each of 16 candidates, totalling 80 fits\n"
          ],
          "name": "stdout"
        },
        {
          "output_type": "stream",
          "text": [
            "[Parallel(n_jobs=-1)]: Using backend LokyBackend with 2 concurrent workers.\n",
            "[Parallel(n_jobs=-1)]: Done   1 tasks      | elapsed:    3.1s\n",
            "[Parallel(n_jobs=-1)]: Done   4 tasks      | elapsed:    6.1s\n",
            "[Parallel(n_jobs=-1)]: Done   9 tasks      | elapsed:   15.3s\n",
            "[Parallel(n_jobs=-1)]: Done  14 tasks      | elapsed:   21.4s\n",
            "[Parallel(n_jobs=-1)]: Done  21 tasks      | elapsed:   34.8s\n",
            "[Parallel(n_jobs=-1)]: Done  28 tasks      | elapsed:   48.0s\n",
            "[Parallel(n_jobs=-1)]: Done  37 tasks      | elapsed:  1.1min\n",
            "[Parallel(n_jobs=-1)]: Done  46 tasks      | elapsed:  1.4min\n",
            "[Parallel(n_jobs=-1)]: Done  57 tasks      | elapsed:  1.8min\n",
            "[Parallel(n_jobs=-1)]: Done  68 tasks      | elapsed:  2.2min\n",
            "[Parallel(n_jobs=-1)]: Done  80 out of  80 | elapsed:  2.6min finished\n",
            "/usr/local/lib/python3.6/dist-packages/sklearn/model_selection/_search.py:823: FutureWarning: The parameter 'iid' is deprecated in 0.22 and will be removed in 0.24.\n",
            "  \"removed in 0.24.\", FutureWarning\n"
          ],
          "name": "stderr"
        },
        {
          "output_type": "stream",
          "text": [
            "{'randomforestclassifier__max_depth': 10, 'randomforestclassifier__min_samples_split': 16}\n",
            "best CV score: 0.8230391655588506\n",
            "test score: 0.8219654361386645\n",
            "Fitting 5 folds for each of 16 candidates, totalling 80 fits\n"
          ],
          "name": "stdout"
        },
        {
          "output_type": "stream",
          "text": [
            "[Parallel(n_jobs=-1)]: Using backend LokyBackend with 2 concurrent workers.\n",
            "[Parallel(n_jobs=-1)]: Done   1 tasks      | elapsed:    3.0s\n",
            "[Parallel(n_jobs=-1)]: Done   4 tasks      | elapsed:    6.1s\n",
            "[Parallel(n_jobs=-1)]: Done   9 tasks      | elapsed:   15.1s\n",
            "[Parallel(n_jobs=-1)]: Done  14 tasks      | elapsed:   21.2s\n",
            "[Parallel(n_jobs=-1)]: Done  21 tasks      | elapsed:   34.2s\n",
            "[Parallel(n_jobs=-1)]: Done  28 tasks      | elapsed:   47.5s\n",
            "[Parallel(n_jobs=-1)]: Done  37 tasks      | elapsed:  1.1min\n",
            "[Parallel(n_jobs=-1)]: Done  46 tasks      | elapsed:  1.4min\n",
            "[Parallel(n_jobs=-1)]: Done  57 tasks      | elapsed:  1.8min\n",
            "[Parallel(n_jobs=-1)]: Done  68 tasks      | elapsed:  2.2min\n",
            "[Parallel(n_jobs=-1)]: Done  80 out of  80 | elapsed:  2.5min finished\n",
            "/usr/local/lib/python3.6/dist-packages/sklearn/model_selection/_search.py:823: FutureWarning: The parameter 'iid' is deprecated in 0.22 and will be removed in 0.24.\n",
            "  \"removed in 0.24.\", FutureWarning\n"
          ],
          "name": "stderr"
        },
        {
          "output_type": "stream",
          "text": [
            "{'randomforestclassifier__max_depth': 10, 'randomforestclassifier__min_samples_split': 64}\n",
            "best CV score: 0.822655690765927\n",
            "test score: 0.8237038551999182\n",
            "Fitting 5 folds for each of 16 candidates, totalling 80 fits\n"
          ],
          "name": "stdout"
        },
        {
          "output_type": "stream",
          "text": [
            "[Parallel(n_jobs=-1)]: Using backend LokyBackend with 2 concurrent workers.\n",
            "[Parallel(n_jobs=-1)]: Done   1 tasks      | elapsed:    3.1s\n",
            "[Parallel(n_jobs=-1)]: Done   4 tasks      | elapsed:    6.2s\n",
            "[Parallel(n_jobs=-1)]: Done   9 tasks      | elapsed:   15.3s\n",
            "[Parallel(n_jobs=-1)]: Done  14 tasks      | elapsed:   21.3s\n",
            "[Parallel(n_jobs=-1)]: Done  21 tasks      | elapsed:   34.6s\n",
            "[Parallel(n_jobs=-1)]: Done  28 tasks      | elapsed:   47.8s\n",
            "[Parallel(n_jobs=-1)]: Done  37 tasks      | elapsed:  1.1min\n",
            "[Parallel(n_jobs=-1)]: Done  46 tasks      | elapsed:  1.4min\n",
            "[Parallel(n_jobs=-1)]: Done  57 tasks      | elapsed:  1.8min\n",
            "[Parallel(n_jobs=-1)]: Done  68 tasks      | elapsed:  2.2min\n",
            "[Parallel(n_jobs=-1)]: Done  80 out of  80 | elapsed:  2.6min finished\n",
            "/usr/local/lib/python3.6/dist-packages/sklearn/model_selection/_search.py:823: FutureWarning: The parameter 'iid' is deprecated in 0.22 and will be removed in 0.24.\n",
            "  \"removed in 0.24.\", FutureWarning\n"
          ],
          "name": "stderr"
        },
        {
          "output_type": "stream",
          "text": [
            "{'randomforestclassifier__max_depth': 10, 'randomforestclassifier__min_samples_split': 32}\n",
            "best CV score: 0.8219910011248593\n",
            "test score: 0.8217609162491052\n",
            "Fitting 5 folds for each of 16 candidates, totalling 80 fits\n"
          ],
          "name": "stdout"
        },
        {
          "output_type": "stream",
          "text": [
            "[Parallel(n_jobs=-1)]: Using backend LokyBackend with 2 concurrent workers.\n",
            "[Parallel(n_jobs=-1)]: Done   1 tasks      | elapsed:    3.0s\n",
            "[Parallel(n_jobs=-1)]: Done   4 tasks      | elapsed:    6.1s\n",
            "[Parallel(n_jobs=-1)]: Done   9 tasks      | elapsed:   15.2s\n",
            "[Parallel(n_jobs=-1)]: Done  14 tasks      | elapsed:   21.2s\n",
            "[Parallel(n_jobs=-1)]: Done  21 tasks      | elapsed:   34.5s\n",
            "[Parallel(n_jobs=-1)]: Done  28 tasks      | elapsed:   47.7s\n",
            "[Parallel(n_jobs=-1)]: Done  37 tasks      | elapsed:  1.1min\n",
            "[Parallel(n_jobs=-1)]: Done  46 tasks      | elapsed:  1.4min\n",
            "[Parallel(n_jobs=-1)]: Done  57 tasks      | elapsed:  1.8min\n",
            "[Parallel(n_jobs=-1)]: Done  68 tasks      | elapsed:  2.2min\n",
            "[Parallel(n_jobs=-1)]: Done  80 out of  80 | elapsed:  2.6min finished\n",
            "/usr/local/lib/python3.6/dist-packages/sklearn/model_selection/_search.py:823: FutureWarning: The parameter 'iid' is deprecated in 0.22 and will be removed in 0.24.\n",
            "  \"removed in 0.24.\", FutureWarning\n"
          ],
          "name": "stderr"
        },
        {
          "output_type": "stream",
          "text": [
            "{'randomforestclassifier__max_depth': 10, 'randomforestclassifier__min_samples_split': 64}\n",
            "best CV score: 0.8235249002965538\n",
            "test score: 0.8194089375191738\n",
            "Fitting 5 folds for each of 16 candidates, totalling 80 fits\n"
          ],
          "name": "stdout"
        },
        {
          "output_type": "stream",
          "text": [
            "[Parallel(n_jobs=-1)]: Using backend LokyBackend with 2 concurrent workers.\n",
            "[Parallel(n_jobs=-1)]: Done   1 tasks      | elapsed:    3.1s\n",
            "[Parallel(n_jobs=-1)]: Done   4 tasks      | elapsed:    6.2s\n",
            "[Parallel(n_jobs=-1)]: Done   9 tasks      | elapsed:   15.2s\n",
            "[Parallel(n_jobs=-1)]: Done  14 tasks      | elapsed:   21.2s\n",
            "[Parallel(n_jobs=-1)]: Done  21 tasks      | elapsed:   34.5s\n",
            "[Parallel(n_jobs=-1)]: Done  28 tasks      | elapsed:   47.5s\n",
            "[Parallel(n_jobs=-1)]: Done  37 tasks      | elapsed:  1.1min\n",
            "[Parallel(n_jobs=-1)]: Done  46 tasks      | elapsed:  1.4min\n",
            "[Parallel(n_jobs=-1)]: Done  57 tasks      | elapsed:  1.8min\n",
            "[Parallel(n_jobs=-1)]: Done  68 tasks      | elapsed:  2.2min\n",
            "[Parallel(n_jobs=-1)]: Done  80 out of  80 | elapsed:  2.5min finished\n",
            "/usr/local/lib/python3.6/dist-packages/sklearn/model_selection/_search.py:823: FutureWarning: The parameter 'iid' is deprecated in 0.22 and will be removed in 0.24.\n",
            "  \"removed in 0.24.\", FutureWarning\n"
          ],
          "name": "stderr"
        },
        {
          "output_type": "stream",
          "text": [
            "{'randomforestclassifier__max_depth': 10, 'randomforestclassifier__min_samples_split': 128}\n",
            "best CV score: 0.8221699560282237\n",
            "test score: 0.8212496165252071\n",
            "Fitting 5 folds for each of 16 candidates, totalling 80 fits\n"
          ],
          "name": "stdout"
        },
        {
          "output_type": "stream",
          "text": [
            "[Parallel(n_jobs=-1)]: Using backend LokyBackend with 2 concurrent workers.\n",
            "[Parallel(n_jobs=-1)]: Done   1 tasks      | elapsed:    3.0s\n",
            "[Parallel(n_jobs=-1)]: Done   4 tasks      | elapsed:    6.1s\n",
            "[Parallel(n_jobs=-1)]: Done   9 tasks      | elapsed:   15.1s\n",
            "[Parallel(n_jobs=-1)]: Done  14 tasks      | elapsed:   21.1s\n",
            "[Parallel(n_jobs=-1)]: Done  21 tasks      | elapsed:   34.4s\n",
            "[Parallel(n_jobs=-1)]: Done  28 tasks      | elapsed:   47.6s\n",
            "[Parallel(n_jobs=-1)]: Done  37 tasks      | elapsed:  1.1min\n",
            "[Parallel(n_jobs=-1)]: Done  46 tasks      | elapsed:  1.4min\n",
            "[Parallel(n_jobs=-1)]: Done  57 tasks      | elapsed:  1.8min\n",
            "[Parallel(n_jobs=-1)]: Done  68 tasks      | elapsed:  2.2min\n",
            "[Parallel(n_jobs=-1)]: Done  80 out of  80 | elapsed:  2.6min finished\n",
            "/usr/local/lib/python3.6/dist-packages/sklearn/model_selection/_search.py:823: FutureWarning: The parameter 'iid' is deprecated in 0.22 and will be removed in 0.24.\n",
            "  \"removed in 0.24.\", FutureWarning\n"
          ],
          "name": "stderr"
        },
        {
          "output_type": "stream",
          "text": [
            "{'randomforestclassifier__max_depth': 10, 'randomforestclassifier__min_samples_split': 64}\n",
            "best CV score: 0.8218631761938848\n",
            "test score: 0.8256467941507312\n",
            "Fitting 5 folds for each of 16 candidates, totalling 80 fits\n"
          ],
          "name": "stdout"
        },
        {
          "output_type": "stream",
          "text": [
            "[Parallel(n_jobs=-1)]: Using backend LokyBackend with 2 concurrent workers.\n",
            "[Parallel(n_jobs=-1)]: Done   1 tasks      | elapsed:    3.1s\n",
            "[Parallel(n_jobs=-1)]: Done   4 tasks      | elapsed:    6.2s\n",
            "[Parallel(n_jobs=-1)]: Done   9 tasks      | elapsed:   15.4s\n",
            "[Parallel(n_jobs=-1)]: Done  14 tasks      | elapsed:   21.5s\n",
            "[Parallel(n_jobs=-1)]: Done  21 tasks      | elapsed:   34.8s\n",
            "[Parallel(n_jobs=-1)]: Done  28 tasks      | elapsed:   48.0s\n",
            "[Parallel(n_jobs=-1)]: Done  37 tasks      | elapsed:  1.1min\n",
            "[Parallel(n_jobs=-1)]: Done  46 tasks      | elapsed:  1.4min\n",
            "[Parallel(n_jobs=-1)]: Done  57 tasks      | elapsed:  1.8min\n",
            "[Parallel(n_jobs=-1)]: Done  68 tasks      | elapsed:  2.2min\n",
            "[Parallel(n_jobs=-1)]: Done  80 out of  80 | elapsed:  2.5min finished\n",
            "/usr/local/lib/python3.6/dist-packages/sklearn/model_selection/_search.py:823: FutureWarning: The parameter 'iid' is deprecated in 0.22 and will be removed in 0.24.\n",
            "  \"removed in 0.24.\", FutureWarning\n"
          ],
          "name": "stderr"
        },
        {
          "output_type": "stream",
          "text": [
            "{'randomforestclassifier__max_depth': 10, 'randomforestclassifier__min_samples_split': 64}\n",
            "best CV score: 0.8234226403517743\n",
            "test score: 0.8189998977400552\n",
            "test accuracy: 0.8214 +/- 0.0019\n"
          ],
          "name": "stdout"
        }
      ]
    },
    {
      "cell_type": "code",
      "metadata": {
        "colab": {
          "background_save": true
        },
        "id": "2A4G8zFOe5et"
      },
      "source": [
        ""
      ],
      "execution_count": null,
      "outputs": []
    }
  ]
}